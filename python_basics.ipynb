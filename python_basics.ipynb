{
 "cells": [
  {
   "cell_type": "code",
   "execution_count": 2,
   "id": "e061e817",
   "metadata": {},
   "outputs": [
    {
     "name": "stdout",
     "output_type": "stream",
     "text": [
      "Hello world\n"
     ]
    }
   ],
   "source": [
    "print(\"Hello world\")"
   ]
  },
  {
   "cell_type": "markdown",
   "id": "62547b47",
   "metadata": {},
   "source": [
    "## Python statements"
   ]
  },
  {
   "cell_type": "code",
   "execution_count": 8,
   "id": "1457fefc",
   "metadata": {},
   "outputs": [
    {
     "name": "stdout",
     "output_type": "stream",
     "text": [
      "45\n"
     ]
    }
   ],
   "source": [
    "digits = (1 + 2 + 3 +\\\n",
    "         4 + 5 + 6 + 7\\\n",
    "         + 8 + 9)\n",
    "print(digits)"
   ]
  },
  {
   "cell_type": "markdown",
   "id": "df3ca195",
   "metadata": {},
   "source": [
    "## Indendation"
   ]
  },
  {
   "cell_type": "code",
   "execution_count": 9,
   "id": "721793a6",
   "metadata": {},
   "outputs": [
    {
     "data": {
      "text/plain": [
       "range(1, 9)"
      ]
     },
     "execution_count": 9,
     "metadata": {},
     "output_type": "execute_result"
    }
   ],
   "source": [
    "range(1,9)"
   ]
  },
  {
   "cell_type": "code",
   "execution_count": 12,
   "id": "d797d1dc",
   "metadata": {},
   "outputs": [
    {
     "data": {
      "text/plain": [
       "[1, 2, 3, 4, 5, 6, 7, 8]"
      ]
     },
     "execution_count": 12,
     "metadata": {},
     "output_type": "execute_result"
    }
   ],
   "source": [
    "list(range(1,9))"
   ]
  },
  {
   "cell_type": "code",
   "execution_count": 13,
   "id": "346db1e8",
   "metadata": {},
   "outputs": [
    {
     "data": {
      "text/plain": [
       "[1, 4, 7, 10, 13]"
      ]
     },
     "execution_count": 13,
     "metadata": {},
     "output_type": "execute_result"
    }
   ],
   "source": [
    "list(range(1,15,3))"
   ]
  },
  {
   "cell_type": "code",
   "execution_count": 14,
   "id": "ffbd41b8",
   "metadata": {},
   "outputs": [
    {
     "name": "stdout",
     "output_type": "stream",
     "text": [
      "1\n",
      "2\n",
      "3\n",
      "4\n",
      "5\n",
      "6\n",
      "7\n"
     ]
    }
   ],
   "source": [
    "for i in range(1,8):\n",
    "    print(i)"
   ]
  },
  {
   "cell_type": "code",
   "execution_count": 17,
   "id": "02f7dc94",
   "metadata": {},
   "outputs": [
    {
     "name": "stdout",
     "output_type": "stream",
     "text": [
      "1\n",
      "2\n",
      "3\n",
      "4\n",
      "5\n"
     ]
    }
   ],
   "source": [
    "for i in range(1,8):\n",
    "    print(i)\n",
    "    if i == 5:\n",
    "        break"
   ]
  },
  {
   "cell_type": "code",
   "execution_count": 19,
   "id": "c9dfe8e9",
   "metadata": {},
   "outputs": [
    {
     "name": "stdout",
     "output_type": "stream",
     "text": [
      "1\n",
      "2\n",
      "3\n",
      "4\n"
     ]
    }
   ],
   "source": [
    "for i in range(1,5): print(i)"
   ]
  },
  {
   "cell_type": "markdown",
   "id": "1dbfa31b",
   "metadata": {},
   "source": [
    "## Comment"
   ]
  },
  {
   "cell_type": "code",
   "execution_count": 21,
   "id": "5510ba4e",
   "metadata": {},
   "outputs": [],
   "source": [
    "# this is a comment"
   ]
  },
  {
   "cell_type": "markdown",
   "id": "8490e12e",
   "metadata": {},
   "source": [
    "## Docstring"
   ]
  },
  {
   "cell_type": "code",
   "execution_count": 23,
   "id": "5d6d4465",
   "metadata": {},
   "outputs": [],
   "source": [
    "def function1():\n",
    "    print (\"This is my first function\")"
   ]
  },
  {
   "cell_type": "code",
   "execution_count": 25,
   "id": "1482ec15",
   "metadata": {},
   "outputs": [
    {
     "name": "stdout",
     "output_type": "stream",
     "text": [
      "This is my first function\n"
     ]
    }
   ],
   "source": [
    "function1()"
   ]
  },
  {
   "cell_type": "markdown",
   "id": "d0662789",
   "metadata": {},
   "source": [
    "## List comprehension"
   ]
  },
  {
   "cell_type": "code",
   "execution_count": 41,
   "id": "5003e10a",
   "metadata": {},
   "outputs": [
    {
     "data": {
      "text/plain": [
       "[1, 1.5]"
      ]
     },
     "execution_count": 41,
     "metadata": {},
     "output_type": "execute_result"
    }
   ],
   "source": [
    "list1 = [1, 1.5, 10, 12]\n",
    "\n",
    "[i for i in list1 if i<10] "
   ]
  },
  {
   "cell_type": "code",
   "execution_count": 43,
   "id": "dfd5d1be",
   "metadata": {},
   "outputs": [
    {
     "name": "stdout",
     "output_type": "stream",
     "text": [
      "[0, 4, 16, 36, 64, 100]\n"
     ]
    }
   ],
   "source": [
    "power = [a**2 for a in range(11) if a%2 == 0]\n",
    "print(power)"
   ]
  },
  {
   "cell_type": "markdown",
   "id": "750024ed",
   "metadata": {},
   "source": [
    "## Slicing"
   ]
  },
  {
   "cell_type": "code",
   "execution_count": 44,
   "id": "698d4862",
   "metadata": {},
   "outputs": [
    {
     "data": {
      "text/plain": [
       "[2, 3, 4]"
      ]
     },
     "execution_count": 44,
     "metadata": {},
     "output_type": "execute_result"
    }
   ],
   "source": [
    "list2 = [1,2,2,3,4,5,5,6,6]\n",
    "list2[2:5]"
   ]
  },
  {
   "cell_type": "markdown",
   "id": "943c3c39",
   "metadata": {},
   "source": [
    "## List is mutable (It can change by user at any point)"
   ]
  },
  {
   "cell_type": "markdown",
   "id": "fd5247e4",
   "metadata": {},
   "source": [
    "## Tuple is immutable (It cannot be changed by user)"
   ]
  },
  {
   "cell_type": "markdown",
   "id": "62761160",
   "metadata": {},
   "source": [
    "## String"
   ]
  },
  {
   "cell_type": "code",
   "execution_count": 50,
   "id": "45189e0c",
   "metadata": {},
   "outputs": [
    {
     "name": "stdout",
     "output_type": "stream",
     "text": [
      "This is a string\n"
     ]
    }
   ],
   "source": [
    "S = \"This is a string\"\n",
    "S [10:16]\n",
    "print(S)"
   ]
  },
  {
   "cell_type": "markdown",
   "id": "5d9d6bf8",
   "metadata": {},
   "source": [
    "## Set (set will not do a slicing and indexing operations)"
   ]
  },
  {
   "cell_type": "code",
   "execution_count": 52,
   "id": "80c45557",
   "metadata": {},
   "outputs": [
    {
     "data": {
      "text/plain": [
       "set"
      ]
     },
     "execution_count": 52,
     "metadata": {},
     "output_type": "execute_result"
    }
   ],
   "source": [
    "Set1 = {1,2,3,4,5,6}\n",
    "type(Set1)"
   ]
  },
  {
   "cell_type": "markdown",
   "id": "f86c97f9",
   "metadata": {},
   "source": [
    "## Dictionary"
   ]
  },
  {
   "cell_type": "code",
   "execution_count": 66,
   "id": "570d43a9",
   "metadata": {},
   "outputs": [
    {
     "name": "stdout",
     "output_type": "stream",
     "text": [
      "Prasanth\n"
     ]
    }
   ],
   "source": [
    "dict1 = {'Name' : 'Prasanth', 'Age' : 21, 'dept' : 'ECE'}\n",
    "type(dict1)\n",
    "print(dict1['Name'])"
   ]
  },
  {
   "cell_type": "code",
   "execution_count": null,
   "id": "7d3ea04e",
   "metadata": {},
   "outputs": [],
   "source": []
  }
 ],
 "metadata": {
  "kernelspec": {
   "display_name": "Python 3 (ipykernel)",
   "language": "python",
   "name": "python3"
  },
  "language_info": {
   "codemirror_mode": {
    "name": "ipython",
    "version": 3
   },
   "file_extension": ".py",
   "mimetype": "text/x-python",
   "name": "python",
   "nbconvert_exporter": "python",
   "pygments_lexer": "ipython3",
   "version": "3.9.7"
  }
 },
 "nbformat": 4,
 "nbformat_minor": 5
}
